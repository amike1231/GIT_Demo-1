{
  "cells": [
    {
      "cell_type": "markdown",
      "id": "fda4a2b2",
      "metadata": {
        "id": "fda4a2b2"
      },
      "source": [
        "## Project 0 - Creating Z-scores from scratch\n",
        "\n",
        "In this [DEMO project](https://github.com/Alex-Caian/GIT_Demo) we will create Z-scores from scratch. We will test it our manual calculations against another library to check the results.\n",
        "\n",
        "This project only consists of two parts:\n",
        "\n",
        "1. Generating Z-scores\n",
        "\n",
        "2. Testing the Z-scores\n",
        "\n",
        "We'll start by importing necessary libraries."
      ]
    },
    {
      "cell_type": "code",
      "execution_count": 1,
      "id": "f8685d66",
      "metadata": {
        "id": "f8685d66"
      },
      "outputs": [],
      "source": [
        "import numpy as np ## For math \n",
        "import math ## For math \n",
        "\n",
        "from sklearn.preprocessing import StandardScaler ## For testing our results"
      ]
    },
    {
      "cell_type": "markdown",
      "id": "d426e703",
      "metadata": {
        "id": "d426e703"
      },
      "source": [
        "### Part 1 - Generating Z-scores"
      ]
    },
    {
      "cell_type": "markdown",
      "id": "ddd9ee3a",
      "metadata": {
        "id": "ddd9ee3a"
      },
      "source": [
        "We first define a couple of cases to test on, in the form of arrays/lists:"
      ]
    },
    {
      "cell_type": "code",
      "execution_count": 2,
      "id": "a0e4f8c9",
      "metadata": {
        "id": "a0e4f8c9"
      },
      "outputs": [],
      "source": [
        "test1 = [1,5,2,6,7,2,3,6,2,1,0]\n",
        "test2 = [3,3,2,6,2,2,4]\n",
        "test3 = [1,2,5,3,3,6,7,5,14,35,2,1,4,6,2,99]"
      ]
    },
    {
      "cell_type": "markdown",
      "id": "b603a610",
      "metadata": {
        "id": "b603a610"
      },
      "source": [
        "First, we need to know the formula for Z scores:\n",
        "\n",
        "<img src=\"https://github.com/Alex-Caian/GIT_Demo/blob/main/Zscore.png?raw=True\" />"
      ]
    },
    {
      "cell_type": "markdown",
      "id": "0558b4de",
      "metadata": {
        "id": "0558b4de"
      },
      "source": [
        "As per the formula, there are two elements we need to know:\n",
        "\n",
        "> The mean\n",
        "\n",
        "> The standard deviation\n",
        "\n",
        "Let's start with the easier one.\n",
        "\n",
        "#### The mean"
      ]
    },
    {
      "cell_type": "code",
      "execution_count": 6,
      "id": "169ceea1",
      "metadata": {
        "id": "169ceea1"
      },
      "outputs": [],
      "source": [
        "def mean(array):\n",
        "    assert(hasattr(array, '__iter__')), \"Not an iterable.\"\n",
        "    try :\n",
        "      return sum(array)/len(array)\n",
        "    except ZeroDivisionError:\n",
        "      return 0\n"
      ]
    },
    {
      "cell_type": "code",
      "execution_count": 7,
      "id": "0c7cb3e7",
      "metadata": {
        "colab": {
          "base_uri": "https://localhost:8080/"
        },
        "id": "0c7cb3e7",
        "outputId": "b0ca2a86-aeb3-4a7f-bc4e-5a021cc74f58"
      },
      "outputs": [
        {
          "output_type": "execute_result",
          "data": {
            "text/plain": [
              "3.1818181818181817"
            ]
          },
          "metadata": {},
          "execution_count": 7
        }
      ],
      "source": [
        "## Run a test to check that it works\n",
        "mean(test1)"
      ]
    },
    {
      "cell_type": "code",
      "execution_count": 8,
      "id": "3dabd839",
      "metadata": {
        "colab": {
          "base_uri": "https://localhost:8080/"
        },
        "id": "3dabd839",
        "outputId": "76883e5e-f8fa-4970-f156-30f9b1db46e7"
      },
      "outputs": [
        {
          "output_type": "execute_result",
          "data": {
            "text/plain": [
              "0"
            ]
          },
          "metadata": {},
          "execution_count": 8
        }
      ],
      "source": [
        "## Testing\n",
        "mean([])"
      ]
    },
    {
      "cell_type": "markdown",
      "id": "1e063f62",
      "metadata": {
        "id": "1e063f62"
      },
      "source": [
        "Next up, the standard deviation. \n",
        "\n",
        "<img src=\"https://github.com/Alex-Caian/GIT_Demo/blob/main/stdev.png?raw=true\" />\n",
        "\n",
        "Once again, we need to make use of the mean. Good thing we defined the function already!\n",
        "\n",
        "#### Defining the function to calculate The standard deviation"
      ]
    },
    {
      "cell_type": "code",
      "execution_count": 16,
      "id": "498b6321",
      "metadata": {
        "id": "498b6321"
      },
      "outputs": [],
      "source": [
        "def stdev(array):\n",
        "    numerator = sum([(number - mean(array))**2 for number in array])\n",
        "    denominator = len(array)\n",
        "    try:\n",
        "      return np.sqrt(numerator/denominator)\n",
        "    except ZeroDivisionError:\n",
        "      return 0\n",
        "    "
      ]
    },
    {
      "cell_type": "code",
      "execution_count": 18,
      "id": "4adff964",
      "metadata": {
        "colab": {
          "base_uri": "https://localhost:8080/"
        },
        "id": "4adff964",
        "outputId": "27301db2-1e46-4999-a6d1-8da34b654919"
      },
      "outputs": [
        {
          "output_type": "execute_result",
          "data": {
            "text/plain": [
              "array([2.28903242])"
            ]
          },
          "metadata": {},
          "execution_count": 18
        }
      ],
      "source": [
        "## Again, run a test to check it works:\n",
        "stdev(test1)"
      ]
    },
    {
      "cell_type": "markdown",
      "id": "614803df",
      "metadata": {
        "id": "614803df"
      },
      "source": [
        "Finally, we can bring them together to generate the Z-scores for our array!"
      ]
    },
    {
      "cell_type": "code",
      "execution_count": 20,
      "id": "f0088d57",
      "metadata": {
        "id": "f0088d57"
      },
      "outputs": [],
      "source": [
        "def Zscore(array):\n",
        "    try:\n",
        "      return [(number - mean(array))/stdev(array) for number in array]\n",
        "    except ZeroDivisionError:\n",
        "      return 0\n",
        "    "
      ]
    },
    {
      "cell_type": "code",
      "execution_count": 21,
      "id": "b525e5df",
      "metadata": {
        "colab": {
          "base_uri": "https://localhost:8080/"
        },
        "id": "b525e5df",
        "outputId": "55ae820f-0ab5-47cc-b2eb-31180614b150"
      },
      "outputs": [
        {
          "output_type": "execute_result",
          "data": {
            "text/plain": [
              "[array([-0.95316176]),\n",
              " array([0.79430147]),\n",
              " array([-0.51629596]),\n",
              " array([1.23116728]),\n",
              " array([1.66803309]),\n",
              " array([-0.51629596]),\n",
              " array([-0.07943015]),\n",
              " array([1.23116728]),\n",
              " array([-0.51629596]),\n",
              " array([-0.95316176]),\n",
              " array([-1.39002757])]"
            ]
          },
          "metadata": {},
          "execution_count": 21
        }
      ],
      "source": [
        "## Initial sanity test\n",
        "Zscore(test1)"
      ]
    },
    {
      "cell_type": "markdown",
      "id": "3c3daa53",
      "metadata": {
        "id": "3c3daa53"
      },
      "source": [
        "### Part 2 - Testing our results\n",
        "\n",
        "In this part we will test the results of our Zscores against the standardscaler. We start by initialising a standard scaler and transforming the test case."
      ]
    },
    {
      "cell_type": "code",
      "execution_count": 22,
      "id": "9542ad48",
      "metadata": {
        "colab": {
          "base_uri": "https://localhost:8080/"
        },
        "id": "9542ad48",
        "outputId": "e29c705f-a4ff-49d1-f076-a1361f6399cc"
      },
      "outputs": [
        {
          "output_type": "stream",
          "name": "stdout",
          "text": [
            "[[-0.95316176]\n",
            " [ 0.79430147]\n",
            " [-0.51629596]\n",
            " [ 1.23116728]\n",
            " [ 1.66803309]\n",
            " [-0.51629596]\n",
            " [-0.07943015]\n",
            " [ 1.23116728]\n",
            " [-0.51629596]\n",
            " [-0.95316176]\n",
            " [-1.39002757]]\n"
          ]
        }
      ],
      "source": [
        "st = StandardScaler() ## Create\n",
        "test1 = np.array(test1) ## Make it into an array\n",
        "test1 = test1.reshape(-1,1) ## Reshape it\n",
        "\n",
        "Ztest1 = st.fit_transform(test1) ## Transform\n",
        "print(Ztest1) ## Print results"
      ]
    },
    {
      "cell_type": "markdown",
      "id": "0cd53a9a",
      "metadata": {
        "id": "0cd53a9a"
      },
      "source": [
        "Let's test that it worked:"
      ]
    },
    {
      "cell_type": "code",
      "execution_count": 23,
      "id": "65636038",
      "metadata": {
        "colab": {
          "base_uri": "https://localhost:8080/"
        },
        "id": "65636038",
        "outputId": "314d0075-2e75-47b5-88d1-8cdc88f745fe"
      },
      "outputs": [
        {
          "output_type": "execute_result",
          "data": {
            "text/plain": [
              "array([[ True],\n",
              "       [ True],\n",
              "       [ True],\n",
              "       [ True],\n",
              "       [ True],\n",
              "       [ True],\n",
              "       [ True],\n",
              "       [ True],\n",
              "       [ True],\n",
              "       [ True],\n",
              "       [ True]])"
            ]
          },
          "metadata": {},
          "execution_count": 23
        }
      ],
      "source": [
        "np.array(Zscore(test1)) == Ztest1"
      ]
    },
    {
      "cell_type": "markdown",
      "id": "4f4a076f",
      "metadata": {
        "id": "4f4a076f"
      },
      "source": [
        "Time to do test the other ones too! Can we find a nicer way to test if the results are the same? If the array contains 100 numbers for example I don't want to output 100 values of True..."
      ]
    },
    {
      "cell_type": "code",
      "execution_count": null,
      "id": "a0e1bec6",
      "metadata": {
        "id": "a0e1bec6"
      },
      "outputs": [],
      "source": [
        "## UNFINISHED WORK\n",
        "## CAN YOU HELP ME??"
      ]
    },
    {
      "cell_type": "code",
      "execution_count": null,
      "id": "11ab90ab",
      "metadata": {
        "id": "11ab90ab"
      },
      "outputs": [],
      "source": [
        "## Change 3??"
      ]
    },
    {
      "cell_type": "markdown",
      "id": "654ce702",
      "metadata": {
        "id": "654ce702"
      },
      "source": [
        "### Part 3 - ???\n",
        "\n",
        "Is there anything else we could improve here? Oh, not the code! Sure.. can always improve that, but..\n",
        "\n",
        "**What would make this file even more readable?** Can YOU:\n",
        "\n",
        "> Tidy it up more! Font, code structure, comments, markdown.. these make the difference between a project people will want to fork and use and one they will be scared to touch.\n",
        "\n",
        "> Update YOUR ReadME! ReadME's are important parts of any repo, so people know what they're looking at!\n",
        "\n",
        "> Documentation & referencing. This is obviously a trivial case, but we work with lots of models, algorithms & techniques! Make sure to keep a documentation file available as well.\n",
        "\n",
        "> Cleaning & project structure. We explained our steps quite in depth here for such an easy problem. But, again, your next project likely won't be finding some Z-scores!"
      ]
    },
    {
      "cell_type": "markdown",
      "id": "28f50bad",
      "metadata": {
        "id": "28f50bad"
      },
      "source": [
        "It's your turn!!\n",
        "\n",
        "Step 1. [Fork this repo](https://docs.github.com/en/get-started/quickstart/fork-a-repo)\n",
        "\n",
        "Step 2. Make all the changes you want to make\n",
        "\n",
        "Step 3. [Create a pull request](https://docs.github.com/en/desktop/contributing-and-collaborating-using-github-desktop/working-with-your-remote-repository-on-github-or-github-enterprise/creating-an-issue-or-pull-request) to help me update my work and make it better!\n",
        "\n",
        "Step 4. Love Github for the rest of your life! It's one of the most amazing collaborative technologies which allows you to build an online portfolio and store all your hard work forever. Get started with the Github community directly on [Github](https://github.com/community) and/or join us on [reddit](https://www.reddit.com/r/github/)!"
      ]
    }
  ],
  "metadata": {
    "kernelspec": {
      "display_name": "Python 3 (ipykernel)",
      "language": "python",
      "name": "python3"
    },
    "language_info": {
      "codemirror_mode": {
        "name": "ipython",
        "version": 3
      },
      "file_extension": ".py",
      "mimetype": "text/x-python",
      "name": "python",
      "nbconvert_exporter": "python",
      "pygments_lexer": "ipython3",
      "version": "3.9.12"
    },
    "colab": {
      "provenance": []
    }
  },
  "nbformat": 4,
  "nbformat_minor": 5
}